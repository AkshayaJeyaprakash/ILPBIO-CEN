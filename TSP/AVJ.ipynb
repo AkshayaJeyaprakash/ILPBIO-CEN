{
 "cells": [
  {
   "cell_type": "code",
   "execution_count": 23,
   "id": "e02c3b7a",
   "metadata": {},
   "outputs": [],
   "source": [
    "import numpy as np\n",
    "import gurobipy as gb\n",
    "from gurobipy import GRB"
   ]
  },
  {
   "cell_type": "code",
   "execution_count": 24,
   "id": "ab274862",
   "metadata": {},
   "outputs": [],
   "source": [
    "#Adjacency matrix of the given graph\n",
    "A=np.array([ [0,1,1,1,1,1,1],\n",
    "            [1,0,1,1,0,0,1],\n",
    "            [1,1,0,1,0,0,0],\n",
    "            [1,1,1,0,1,0,0],\n",
    "            [1,0,0,1,0,1,1],\n",
    "            [1,0,0,0,1,0,1],\n",
    "            [1,1,0,0,1,1,0]])"
   ]
  },
  {
   "cell_type": "code",
   "execution_count": 25,
   "id": "0c1e4c5c",
   "metadata": {},
   "outputs": [],
   "source": [
    "# Cost matrix for the corresponding edges in the graph\n",
    "C=np.array([ [0,0,0,0,0,0,0],\n",
    "             [0,0,4,2,0,0,9],\n",
    "             [0,4,0,6,0,0,0],\n",
    "             [0,2,6,0,10,0,0],\n",
    "             [0,0,0,10,0,4,1],\n",
    "             [0,0,0,0,4,0,5],\n",
    "             [0,9,0,0,2,5,0]])\n",
    "\n",
    "temp=A[1:,1:]-np.tril(np.ones((6, 6)))\n",
    "[i,j]=np.where(temp==1)"
   ]
  },
  {
   "cell_type": "code",
   "execution_count": 26,
   "id": "018ee6bb",
   "metadata": {},
   "outputs": [],
   "source": [
    "N=7 #Number of nodes"
   ]
  },
  {
   "cell_type": "code",
   "execution_count": 27,
   "id": "f1eeebff",
   "metadata": {},
   "outputs": [],
   "source": [
    "t=gb.Model()#Initialising a model in gurobi top add constraints and objective function\n",
    "F = t.addMVar((N,N),vtype=GRB.BINARY,name=\"F\")# Adding variables in gurobi of matrix variable object type\n",
    "B = t.addMVar((N,N),vtype=GRB.INTEGER, name=\"B\") # Adding variables in gurobi of matrix variable object type"
   ]
  },
  {
   "cell_type": "code",
   "execution_count": 28,
   "id": "6e962e0d-95db-4ce3-92be-d19d500d0959",
   "metadata": {},
   "outputs": [],
   "source": [
    "sum1=0\n",
    "for i1 in range(N):\n",
    "    for j1 in range(i1,N):\n",
    "        if(A[i1][j1]==1):\n",
    "            sum1=sum1+C[i1][j1]*F[i1][j1]+C[i1][j1]*F[j1][i1]\n",
    "t.setObjective(sum1,GRB.MINIMIZE)          "
   ]
  },
  {
   "cell_type": "code",
   "execution_count": 29,
   "id": "bf89b12b",
   "metadata": {},
   "outputs": [],
   "source": [
    "for k in range(len(i)):\n",
    "    t.addConstr(F[i[k]][j[k]]+F[j[k]][i[k]]<=1)"
   ]
  },
  {
   "cell_type": "code",
   "execution_count": 30,
   "id": "ebf3f019",
   "metadata": {},
   "outputs": [
    {
     "name": "stdout",
     "output_type": "stream",
     "text": [
      "\n",
      "\n",
      "\n",
      "\n",
      "\n",
      "\n",
      "\n"
     ]
    }
   ],
   "source": [
    "Fc2=[]\n",
    "Fc3=[]\n",
    "for ci2 in range(N):\n",
    "    sumi=0;\n",
    "    sumj=0;\n",
    "    for cj2 in range(N):\n",
    "        if(A[ci2,cj2]==1 and ci2!=cj2):\n",
    "            sumi+=F[ci2,cj2]\n",
    "            sumj=sumj+F[cj2,ci2]          \n",
    "    print()\n",
    "    t.addConstr(sumi==1)\n",
    "    t.addConstr(sumj==1)    "
   ]
  },
  {
   "cell_type": "code",
   "execution_count": 31,
   "id": "08cc6932-b1f5-4e0a-9a06-f0841dca2368",
   "metadata": {},
   "outputs": [],
   "source": [
    "for c3 in range(1,N):\n",
    "    t.addConstr(B[1][c3]==(N-1)*F[1][c3])"
   ]
  },
  {
   "cell_type": "code",
   "execution_count": 32,
   "id": "e06e67ab-9aed-4b77-906c-75024f1546f6",
   "metadata": {},
   "outputs": [],
   "source": [
    "for k in range(len(i)):\n",
    "    t.addConstr((B[i[k]][j[k]]<= (N-1)*F[i[k]][j[k]]))\n",
    "    t.addConstr((B[j[k]][i[k]]<= (N-1)*F[j[k]][i[k]]))"
   ]
  },
  {
   "cell_type": "code",
   "execution_count": 34,
   "id": "96072674-28d9-449a-90fa-d8f5f53cd551",
   "metadata": {},
   "outputs": [],
   "source": [
    "for cj7 in range(2,N):\n",
    "    sumi7=0;\n",
    "    sumj7=0;\n",
    "    for ci7 in range(1,N):\n",
    "        if(A[ci7,cj7]==1):\n",
    "            sumi7=sumi7+B[ci7,cj7];\n",
    "            sumj7=sumj7+B[cj7,ci7];\n",
    "    t.addConstr(sumi7-sumj7==1)"
   ]
  },
  {
   "cell_type": "code",
   "execution_count": 35,
   "id": "d841f8f8-c9c3-4e3e-9453-c6934b5f39ca",
   "metadata": {},
   "outputs": [
    {
     "name": "stdout",
     "output_type": "stream",
     "text": [
      "Gurobi Optimizer version 9.5.1 build v9.5.1rc2 (win64)\n",
      "Thread count: 6 physical cores, 12 logical processors, using up to 12 threads\n",
      "Optimize a model with 49 rows, 98 columns and 142 nonzeros\n",
      "Model fingerprint: 0x7159c3a8\n",
      "Variable types: 0 continuous, 98 integer (49 binary)\n",
      "Coefficient statistics:\n",
      "  Matrix range     [1e+00, 6e+00]\n",
      "  Objective range  [1e+00, 1e+01]\n",
      "  Bounds range     [1e+00, 1e+00]\n",
      "  RHS range        [1e+00, 1e+00]\n",
      "Presolve removed 37 rows and 85 columns\n",
      "Presolve time: 0.01s\n",
      "Presolved: 12 rows, 13 columns, 40 nonzeros\n",
      "Variable types: 0 continuous, 13 integer (13 binary)\n",
      "Found heuristic solution: objective 33.0000000\n",
      "Found heuristic solution: objective 29.0000000\n",
      "\n",
      "Root relaxation: objective 2.600000e+01, 7 iterations, 0.00 seconds (0.00 work units)\n",
      "\n",
      "    Nodes    |    Current Node    |     Objective Bounds      |     Work\n",
      " Expl Unexpl |  Obj  Depth IntInf | Incumbent    BestBd   Gap | It/Node Time\n",
      "\n",
      "*    0     0               0      26.0000000   26.00000  0.00%     -    0s\n",
      "\n",
      "Explored 1 nodes (7 simplex iterations) in 0.05 seconds (0.00 work units)\n",
      "Thread count was 12 (of 12 available processors)\n",
      "\n",
      "Solution count 3: 26 29 33 \n",
      "\n",
      "Optimal solution found (tolerance 1.00e-04)\n",
      "Best objective 2.600000000000e+01, best bound 2.600000000000e+01, gap 0.0000%\n"
     ]
    }
   ],
   "source": [
    "\n",
    "t.optimize()"
   ]
  },
  {
   "cell_type": "code",
   "execution_count": 36,
   "id": "70d4732e-bac9-4e1a-9b49-f8546dc95a34",
   "metadata": {},
   "outputs": [
    {
     "name": "stdout",
     "output_type": "stream",
     "text": [
      "Minimize\n",
      "<gurobi.LinExpr: 4.0 F[9] + 2.0 F[10] + 9.0 F[13] + 4.0 F[15] + 6.0 F[17] + 2.0 F[22]\n",
      "+ 6.0 F[23] + 10.0 F[25] + 10.0 F[31] + 4.0 F[33] + F[34] + 4.0 F[39] + 5.0 F[41]\n",
      "+ 9.0 F[43] + F[46] + 5.0 F[47]>\n",
      "Subject To\n",
      "  R0: <gurobi.LinExpr: F[1] + F[7]> <= 1\n",
      "  R1: <gurobi.LinExpr: F[2] + F[14]> <= 1\n",
      "  R2: <gurobi.LinExpr: F[5] + F[35]> <= 1\n",
      "  R3: <gurobi.LinExpr: F[9] + F[15]> <= 1\n",
      "  R4: <gurobi.LinExpr: F[17] + F[23]> <= 1\n",
      "  R5: <gurobi.LinExpr: F[25] + F[31]> <= 1\n",
      "  R6: <gurobi.LinExpr: F[26] + F[38]> <= 1\n",
      "  R7: <gurobi.LinExpr: F[33] + F[39]> <= 1\n",
      "  R8: <gurobi.LinExpr: F[1] + F[2] + F[3] + F[4] + F[5] + F[6]> = 1\n",
      "  R9: <gurobi.LinExpr: F[7] + F[14] + F[21] + F[28] + F[35] + F[42]> = 1\n",
      "  R10: <gurobi.LinExpr: F[7] + F[9] + F[10] + F[13]> = 1\n",
      "  R11: <gurobi.LinExpr: F[1] + F[15] + F[22] + F[43]> = 1\n",
      "  R12: <gurobi.LinExpr: F[14] + F[15] + F[17]> = 1\n",
      "  R13: <gurobi.LinExpr: F[2] + F[9] + F[23]> = 1\n",
      "  R14: <gurobi.LinExpr: F[21] + F[22] + F[23] + F[25]> = 1\n",
      "  R15: <gurobi.LinExpr: F[3] + F[10] + F[17] + F[31]> = 1\n",
      "  R16: <gurobi.LinExpr: F[28] + F[31] + F[33] + F[34]> = 1\n",
      "  R17: <gurobi.LinExpr: F[4] + F[25] + F[39] + F[46]> = 1\n",
      "  R18: <gurobi.LinExpr: F[35] + F[39] + F[41]> = 1\n",
      "  R19: <gurobi.LinExpr: F[5] + F[33] + F[47]> = 1\n",
      "  R20: <gurobi.LinExpr: F[42] + F[43] + F[46] + F[47]> = 1\n",
      "  R21: <gurobi.LinExpr: F[6] + F[13] + F[34] + F[41]> = 1\n",
      "  R22: <gurobi.LinExpr: -6.0 F[8] + B[8]> = 0\n",
      "  R23: <gurobi.LinExpr: -6.0 F[9] + B[9]> = 0\n",
      "  R24: <gurobi.LinExpr: -6.0 F[10] + B[10]> = 0\n",
      "  R25: <gurobi.LinExpr: -6.0 F[11] + B[11]> = 0\n",
      "  R26: <gurobi.LinExpr: -6.0 F[12] + B[12]> = 0\n",
      "  R27: <gurobi.LinExpr: -6.0 F[13] + B[13]> = 0\n",
      "  R28: <gurobi.LinExpr: -6.0 F[1] + B[1]> <= 0\n",
      "  R29: <gurobi.LinExpr: -6.0 F[7] + B[7]> <= 0\n",
      "  R30: <gurobi.LinExpr: -6.0 F[2] + B[2]> <= 0\n",
      "  R31: <gurobi.LinExpr: -6.0 F[14] + B[14]> <= 0\n",
      "  R32: <gurobi.LinExpr: -6.0 F[5] + B[5]> <= 0\n",
      "  R33: <gurobi.LinExpr: -6.0 F[35] + B[35]> <= 0\n",
      "  R34: <gurobi.LinExpr: -6.0 F[9] + B[9]> <= 0\n",
      "  R35: <gurobi.LinExpr: -6.0 F[15] + B[15]> <= 0\n",
      "  R36: <gurobi.LinExpr: -6.0 F[17] + B[17]> <= 0\n",
      "  R37: <gurobi.LinExpr: -6.0 F[23] + B[23]> <= 0\n",
      "  R38: <gurobi.LinExpr: -6.0 F[25] + B[25]> <= 0\n",
      "  R39: <gurobi.LinExpr: -6.0 F[31] + B[31]> <= 0\n",
      "  R40: <gurobi.LinExpr: -6.0 F[26] + B[26]> <= 0\n",
      "  R41: <gurobi.LinExpr: -6.0 F[38] + B[38]> <= 0\n",
      "  R42: <gurobi.LinExpr: -6.0 F[33] + B[33]> <= 0\n",
      "  R43: <gurobi.LinExpr: -6.0 F[39] + B[39]> <= 0\n",
      "  R44: <gurobi.LinExpr: B[9] + -1.0 B[15] + -1.0 B[17] + B[23]> = 1\n",
      "  R45: <gurobi.LinExpr: B[10] + B[17] + -1.0 B[22] + -1.0 B[23] + -1.0 B[25] + B[31]> = 1\n",
      "  R46: <gurobi.LinExpr: B[25] + -1.0 B[31] + -1.0 B[33] + -1.0 B[34] + B[39] + B[46]> = 1\n",
      "  R47: <gurobi.LinExpr: B[33] + -1.0 B[39] + -1.0 B[41] + B[47]> = 1\n",
      "  R48: <gurobi.LinExpr: B[13] + B[34] + B[41] + -1.0 B[43] + -1.0 B[46] + -1.0 B[47]> = 1\n",
      "Binaries\n",
      "['F[0]', 'F[1]', 'F[2]', 'F[3]', 'F[4]', 'F[5]', 'F[6]', 'F[7]', 'F[8]', 'F[9]',\n",
      "'F[10]', 'F[11]', 'F[12]', 'F[13]', 'F[14]', 'F[15]', 'F[16]', 'F[17]', 'F[18]',\n",
      "'F[19]', 'F[20]', 'F[21]', 'F[22]', 'F[23]', 'F[24]', 'F[25]', 'F[26]', 'F[27]',\n",
      "'F[28]', 'F[29]', 'F[30]', 'F[31]', 'F[32]', 'F[33]', 'F[34]', 'F[35]', 'F[36]',\n",
      "'F[37]', 'F[38]', 'F[39]', 'F[40]', 'F[41]', 'F[42]', 'F[43]', 'F[44]', 'F[45]',\n",
      " 'F[46]', 'F[47]', 'F[48]']\n",
      "General Integers\n",
      "['B[0]', 'B[1]', 'B[2]', 'B[3]', 'B[4]', 'B[5]', 'B[6]', 'B[7]', 'B[8]', 'B[9]',\n",
      "'B[10]', 'B[11]', 'B[12]', 'B[13]', 'B[14]', 'B[15]', 'B[16]', 'B[17]', 'B[18]',\n",
      "'B[19]', 'B[20]', 'B[21]', 'B[22]', 'B[23]', 'B[24]', 'B[25]', 'B[26]', 'B[27]',\n",
      "'B[28]', 'B[29]', 'B[30]', 'B[31]', 'B[32]', 'B[33]', 'B[34]', 'B[35]', 'B[36]',\n",
      "'B[37]', 'B[38]', 'B[39]', 'B[40]', 'B[41]', 'B[42]', 'B[43]', 'B[44]', 'B[45]',\n",
      " 'B[46]', 'B[47]', 'B[48]']\n",
      "None\n"
     ]
    }
   ],
   "source": [
    "print (t.display())"
   ]
  },
  {
   "cell_type": "code",
   "execution_count": null,
   "id": "df37dd89-5aaf-4c1b-a377-c3488f548fd7",
   "metadata": {},
   "outputs": [],
   "source": []
  }
 ],
 "metadata": {
  "kernelspec": {
   "display_name": "Python 3 (ipykernel)",
   "language": "python",
   "name": "python3"
  },
  "language_info": {
   "codemirror_mode": {
    "name": "ipython",
    "version": 3
   },
   "file_extension": ".py",
   "mimetype": "text/x-python",
   "name": "python",
   "nbconvert_exporter": "python",
   "pygments_lexer": "ipython3",
   "version": "3.9.7"
  }
 },
 "nbformat": 4,
 "nbformat_minor": 5
}
